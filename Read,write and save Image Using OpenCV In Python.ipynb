{
 "cells": [
  {
   "cell_type": "markdown",
   "metadata": {},
   "source": [
    "## Read,write and save Image Using OpenCV In Python"
   ]
  },
  {
   "cell_type": "markdown",
   "metadata": {},
   "source": [
    "Syntax: cv2.imread(path, flag)\n",
    "\n",
    "flag: default value is cv2.IMREAD_COLOR\n",
    "    \n",
    "Parameters:\n",
    "\n",
    "cv2.IMREAD_COLOR or 1: reads the image with RGB colors\n",
    "\n",
    "cv2.IMREAD_GRAYSCALE or 0: reads the image with gray colors\n",
    "\n",
    "cv2.IMREAD_UNCHANGED or -1: It reads the image as is from the source. If the source image is an RGB, it loads the image into an array with Red, Green, and Blue channels. If the source image is ARGB, it loads the image with three color components along with the alpha or transparency channel."
   ]
  },
  {
   "cell_type": "markdown",
   "metadata": {},
   "source": [
    "### Read Image in RGB format"
   ]
  },
  {
   "cell_type": "code",
   "execution_count": 9,
   "metadata": {},
   "outputs": [],
   "source": [
    "#import opencv packages and other necessory laibraries\n",
    "import cv2\n",
    "\n",
    "import numpy as np\n",
    "import os"
   ]
  },
  {
   "cell_type": "code",
   "execution_count": 3,
   "metadata": {},
   "outputs": [
    {
     "name": "stdout",
     "output_type": "stream",
     "text": [
      "(1080, 1920, 3)\n",
      "[[[ 0 68 64]\n",
      "  [ 0 66 65]\n",
      "  [ 5 67 67]\n",
      "  ...\n",
      "  [ 0  4  5]\n",
      "  [ 0  4  5]\n",
      "  [ 0  4  5]]\n",
      "\n",
      " [[ 0 66 64]\n",
      "  [ 0 65 64]\n",
      "  [ 2 64 64]\n",
      "  ...\n",
      "  [ 0  4  5]\n",
      "  [ 0  4  5]\n",
      "  [ 0  4  5]]\n",
      "\n",
      " [[ 0 63 62]\n",
      "  [ 0 63 62]\n",
      "  [ 1 61 61]\n",
      "  ...\n",
      "  [ 0  4  5]\n",
      "  [ 0  4  5]\n",
      "  [ 0  4  5]]\n",
      "\n",
      " ...\n",
      "\n",
      " [[ 0 22 26]\n",
      "  [ 0 22 26]\n",
      "  [ 0 23 27]\n",
      "  ...\n",
      "  [11 67 86]\n",
      "  [12 65 85]\n",
      "  [11 64 84]]\n",
      "\n",
      " [[ 0 23 27]\n",
      "  [ 0 23 27]\n",
      "  [ 0 24 28]\n",
      "  ...\n",
      "  [ 5 56 76]\n",
      "  [ 2 52 72]\n",
      "  [ 0 49 69]]\n",
      "\n",
      " [[ 0 24 28]\n",
      "  [ 0 24 28]\n",
      "  [ 1 26 30]\n",
      "  ...\n",
      "  [ 0 49 69]\n",
      "  [ 0 41 62]\n",
      "  [ 0 37 58]]]\n"
     ]
    }
   ],
   "source": [
    "path = \"boxrobot.jpg\" \n",
    " \n",
    "img = cv2.imread(path, 1) #read image in RGB format\n",
    " \n",
    "print(img.shape)#print shape of image\n",
    "print(img) #print image array\n",
    " \n",
    "cv2.imshow('image', img) #show image\n",
    "cv2.waitKey(0) #wait to close image window\n",
    " \n",
    "cv2.destroyAllWindows() #cloase all windows"
   ]
  },
  {
   "cell_type": "markdown",
   "metadata": {},
   "source": [
    "### Read Image in Grey Format"
   ]
  },
  {
   "cell_type": "code",
   "execution_count": 4,
   "metadata": {},
   "outputs": [
    {
     "name": "stdout",
     "output_type": "stream",
     "text": [
      "(1080, 1920)\n",
      "[[58 58 60 ...  4  4  4]\n",
      " [57 57 57 ...  4  4  4]\n",
      " [55 55 54 ...  4  4  4]\n",
      " ...\n",
      " [20 20 21 ... 66 65 64]\n",
      " [21 21 22 ... 56 52 49]\n",
      " [22 22 24 ... 49 42 38]]\n"
     ]
    }
   ],
   "source": [
    "path = \"boxrobot.jpg\" \n",
    " \n",
    "img = cv2.imread(path, 0) #read image in RGB format\n",
    " \n",
    "print(img.shape)#print shape of image\n",
    "print(img) #print image array\n",
    " \n",
    "cv2.imshow('image', img) #show image\n",
    "cv2.waitKey(0) #wait to close image window\n",
    " \n",
    "cv2.destroyAllWindows() #cloase all windows"
   ]
  },
  {
   "cell_type": "markdown",
   "metadata": {},
   "source": [
    "### Read Image in Alpha or Transference Format"
   ]
  },
  {
   "cell_type": "code",
   "execution_count": 5,
   "metadata": {},
   "outputs": [
    {
     "name": "stdout",
     "output_type": "stream",
     "text": [
      "(1080, 1920, 3)\n",
      "[[[ 0 68 64]\n",
      "  [ 0 66 65]\n",
      "  [ 5 67 67]\n",
      "  ...\n",
      "  [ 0  4  5]\n",
      "  [ 0  4  5]\n",
      "  [ 0  4  5]]\n",
      "\n",
      " [[ 0 66 64]\n",
      "  [ 0 65 64]\n",
      "  [ 2 64 64]\n",
      "  ...\n",
      "  [ 0  4  5]\n",
      "  [ 0  4  5]\n",
      "  [ 0  4  5]]\n",
      "\n",
      " [[ 0 63 62]\n",
      "  [ 0 63 62]\n",
      "  [ 1 61 61]\n",
      "  ...\n",
      "  [ 0  4  5]\n",
      "  [ 0  4  5]\n",
      "  [ 0  4  5]]\n",
      "\n",
      " ...\n",
      "\n",
      " [[ 0 22 26]\n",
      "  [ 0 22 26]\n",
      "  [ 0 23 27]\n",
      "  ...\n",
      "  [11 67 86]\n",
      "  [12 65 85]\n",
      "  [11 64 84]]\n",
      "\n",
      " [[ 0 23 27]\n",
      "  [ 0 23 27]\n",
      "  [ 0 24 28]\n",
      "  ...\n",
      "  [ 5 56 76]\n",
      "  [ 2 52 72]\n",
      "  [ 0 49 69]]\n",
      "\n",
      " [[ 0 24 28]\n",
      "  [ 0 24 28]\n",
      "  [ 1 26 30]\n",
      "  ...\n",
      "  [ 0 49 69]\n",
      "  [ 0 41 62]\n",
      "  [ 0 37 58]]]\n"
     ]
    }
   ],
   "source": [
    "path = \"boxrobot.jpg\" \n",
    " \n",
    "img = cv2.imread(path, -1) #read image in RGB format\n",
    " \n",
    "print(img.shape)#print shape of image\n",
    "print(img) #print image array\n",
    " \n",
    "cv2.imshow('image', img) #show image\n",
    "cv2.waitKey(0) #wait to close image window\n",
    " \n",
    "cv2.destroyAllWindows() #cloase all windows"
   ]
  },
  {
   "cell_type": "markdown",
   "metadata": {},
   "source": [
    "### Read Image from Full Image Path"
   ]
  },
  {
   "cell_type": "code",
   "execution_count": 7,
   "metadata": {},
   "outputs": [
    {
     "name": "stdout",
     "output_type": "stream",
     "text": [
      "(900, 1440, 3)\n",
      "[[[ 33  33  51]\n",
      "  [ 33  33  51]\n",
      "  [ 33  33  51]\n",
      "  ...\n",
      "  [ 79  71  71]\n",
      "  [ 78  70  70]\n",
      "  [ 77  69  69]]\n",
      "\n",
      " [[ 33  33  51]\n",
      "  [ 33  33  51]\n",
      "  [ 33  33  51]\n",
      "  ...\n",
      "  [ 79  71  71]\n",
      "  [ 78  70  70]\n",
      "  [ 78  70  70]]\n",
      "\n",
      " [[ 34  34  52]\n",
      "  [ 34  34  52]\n",
      "  [ 34  34  52]\n",
      "  ...\n",
      "  [ 77  72  71]\n",
      "  [ 77  72  71]\n",
      "  [ 76  71  70]]\n",
      "\n",
      " ...\n",
      "\n",
      " [[ 48 118  95]\n",
      "  [ 48 118  95]\n",
      "  [ 50 118  95]\n",
      "  ...\n",
      "  [ 51 109  91]\n",
      "  [ 53 108  91]\n",
      "  [ 54 109  92]]\n",
      "\n",
      " [[ 46 116  93]\n",
      "  [ 46 116  93]\n",
      "  [ 48 116  93]\n",
      "  ...\n",
      "  [ 49 107  89]\n",
      "  [ 51 106  89]\n",
      "  [ 52 107  90]]\n",
      "\n",
      " [[ 44 114  91]\n",
      "  [ 44 114  91]\n",
      "  [ 47 115  92]\n",
      "  ...\n",
      "  [ 48 106  88]\n",
      "  [ 50 105  88]\n",
      "  [ 50 105  88]]]\n"
     ]
    }
   ],
   "source": [
    "path = r\"C:\\Users\\Acer\\Downloads\\boxrobo.jpg\" \n",
    " \n",
    "img = cv2.imread(path, 1) #read image in RGB format\n",
    " \n",
    "print(img.shape)#print shape of image\n",
    "print(img) #print image array\n",
    " \n",
    "cv2.imshow('image', img) #show image\n",
    "cv2.waitKey(0) #wait to close image window\n",
    " \n",
    "cv2.destroyAllWindows() #cloase all windows"
   ]
  },
  {
   "cell_type": "markdown",
   "metadata": {},
   "source": [
    "### Show Numpy array as Image"
   ]
  },
  {
   "cell_type": "code",
   "execution_count": 8,
   "metadata": {},
   "outputs": [],
   "source": [
    "import numpy as np\n",
    " \n",
    "matx = np.zeros((200,200)) # numpy array with width =200, height=200\n",
    " \n",
    "cv2.imshow(\"Zeros matx\", matx) # show numpy array\n",
    " \n",
    "cv2.waitKey(0) # wait for ay key to exit window\n",
    "cv2.destroyAllWindows() # close all windows"
   ]
  },
  {
   "cell_type": "markdown",
   "metadata": {},
   "source": [
    "### Save Numpy Array"
   ]
  },
  {
   "cell_type": "code",
   "execution_count": 10,
   "metadata": {},
   "outputs": [],
   "source": [
    "\n",
    " \n",
    "rand_array = np.random.randint(255, size = (300,600,3))\n",
    " \n",
    "cv2.imwrite(\"rand_np_array.png\", rand_array) # imwrite(filename, img[, params])\n",
    " \n",
    "img = cv2.imread(\"rand_np_array.png\")\n",
    "cv2.imshow('image', img)\n",
    " \n",
    "cv2.waitKey(0)\n",
    "cv2.destroyAllWindows()"
   ]
  },
  {
   "cell_type": "markdown",
   "metadata": {},
   "source": [
    "### Save Images from Video"
   ]
  },
  {
   "cell_type": "code",
   "execution_count": null,
   "metadata": {},
   "outputs": [],
   "source": [
    "video_path = r\"C:\\Users\\kashz\\AI Life\\AI Projects - IAIP, PTs (Web + Channel)\\02 OpenCV\\007 Live Face and Eye Detection\\school_girl.mp4\"\n",
    " \n",
    "os.mkdir(\"video_to_image\") # create directory\n",
    " \n",
    "cap = cv2.VideoCapture(video_path) # capture video\n",
    " \n",
    "img_count = 1\n",
    "while cap.isOpened():\n",
    "    ret, frame = cap.read() # read video frame\n",
    "     \n",
    "    if not ret:\n",
    "        print(\"Unable to read frame\")\n",
    "        break\n",
    "     \n",
    "    is_img_write = cv2.imwrite(f\"video_to_image\\image{img_count}.jpeg\", frame)\n",
    "     \n",
    "    if is_img_write:\n",
    "        print(f'image save at video_to_image\\image{img_count}.jpeg')\n",
    "         \n",
    "    cv2.imshow(\"video\", frame )\n",
    "     \n",
    "    cv2.waitKey(25) &amp; 0xff == ord('q')\n",
    "    img_count += 1\n",
    "     \n",
    "cap.release()\n",
    "cv2.destroyAllWindows()"
   ]
  }
 ],
 "metadata": {
  "kernelspec": {
   "display_name": "Python 3",
   "language": "python",
   "name": "python3"
  },
  "language_info": {
   "codemirror_mode": {
    "name": "ipython",
    "version": 3
   },
   "file_extension": ".py",
   "mimetype": "text/x-python",
   "name": "python",
   "nbconvert_exporter": "python",
   "pygments_lexer": "ipython3",
   "version": "3.7.4"
  }
 },
 "nbformat": 4,
 "nbformat_minor": 5
}
