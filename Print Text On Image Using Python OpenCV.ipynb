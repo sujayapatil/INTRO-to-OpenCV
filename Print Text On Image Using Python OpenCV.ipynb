{
 "cells": [
  {
   "cell_type": "markdown",
   "id": "juvenile-strategy",
   "metadata": {},
   "source": [
    "## How to write Text on Image?"
   ]
  },
  {
   "cell_type": "code",
   "execution_count": 1,
   "id": "august-nursing",
   "metadata": {},
   "outputs": [],
   "source": [
    "import cv2\n",
    "import numpy as np\n",
    " \n",
    "img_path = r\"C:\\Users\\Acer\\Downloads\\computer vision tut\\boxrobot.jpg\"\n",
    " \n",
    "image = cv2.imread(img_path)\n",
    "image = cv2.resize(image, (1280, 720))\n",
    " \n",
    "text = \"Model_BOXROBOT\"\n",
    "org = (20,50)\n",
    "font = cv2.FONT_HERSHEY_COMPLEX\n",
    "fontScale = 2\n",
    "color = (0,0,255)  #(B, G, R)\n",
    "thickness = 2\n",
    "lineType = cv2.LINE_AA\n",
    "bottomLeftOrigin = False\n",
    " \n",
    "# Syntax>> cv2.putText(image, text, org, font, fontScale, color[, thickness[, lineType[, bottomLeftOrigin]]])\n",
    " \n",
    "img_text = cv2.putText(image, text, org, font, fontScale, color, thickness, lineType, bottomLeftOrigin)\n",
    " \n",
    "cv2.imshow(\"Text Image\", img_text)\n",
    " \n",
    "cv2.waitKey(0)\n",
    "cv2.destroyAllWindows()"
   ]
  },
  {
   "cell_type": "markdown",
   "id": "afraid-tooth",
   "metadata": {},
   "source": [
    "## Print text Inverse"
   ]
  },
  {
   "cell_type": "code",
   "execution_count": 2,
   "id": "ideal-france",
   "metadata": {},
   "outputs": [],
   "source": [
    "\n",
    " \n",
    "img_path = r\"C:\\Users\\Acer\\Downloads\\computer vision tut\\boxrobot.jpg\"\n",
    " \n",
    "image = cv2.imread(img_path)\n",
    " \n",
    "image = cv2.resize(image, (1280, 720))\n",
    " \n",
    "text = \"Model_BOXROBOT\"\n",
    "org = (100, 200)\n",
    "font = cv2.FONT_HERSHEY_COMPLEX\n",
    "fontScale = 2\n",
    " \n",
    "color = (0,0,255)  #(B, G, R)\n",
    "thickness = 3\n",
    "lineType = cv2.LINE_AA\n",
    "bottomLeftOrigin = True\n",
    " \n",
    "# cv2.putText(image, text, org, font, fontScale, color[, thickness[, lineType[, bottomLeftOrigin]]])\n",
    "img_text = cv2.putText(image, text, org, font, fontScale, color, thickness, lineType, bottomLeftOrigin)\n",
    " \n",
    " \n",
    "cv2.imshow(\"Text Image\", img_text)\n",
    " \n",
    "cv2.waitKey(0)\n",
    "cv2.destroyAllWindows()"
   ]
  },
  {
   "cell_type": "markdown",
   "id": "measured-incentive",
   "metadata": {},
   "source": [
    "## Print text with reflection"
   ]
  },
  {
   "cell_type": "code",
   "execution_count": 6,
   "id": "literary-appeal",
   "metadata": {},
   "outputs": [],
   "source": [
    "img_path = r\"C:\\Users\\Acer\\Downloads\\computer vision tut\\boxrobot.jpg\"\n",
    "image = cv2.imread(img_path)\n",
    " \n",
    "image = cv2.resize(image, (1280, 720))\n",
    " \n",
    "text = \"BOXROBOT\"\n",
    "org = (100, 200)\n",
    "font = cv2.FONT_HERSHEY_COMPLEX\n",
    "fontScale = 2\n",
    " \n",
    "color = (0,0,255)  #(B, G, R)\n",
    "thickness = 3\n",
    "lineType = cv2.LINE_AA\n",
    "bottomLeftOrigin = True\n",
    " \n",
    "# cv2.putText(image, text, org, font, fontScale, color[, thickness[, lineType[, bottomLeftOrigin]]])\n",
    "img_text = cv2.putText(image, text, org, font, fontScale, color, thickness, lineType, bottomLeftOrigin)\n",
    " \n",
    "img_text = cv2.putText(image, text, org, font, fontScale, color, thickness, lineType, bottomLeftOrigin=False)\n",
    " \n",
    "cv2.imshow(\"Text Image\", img_text)\n",
    " \n",
    "cv2.waitKey(0)\n",
    "cv2.destroyAllWindows()"
   ]
  },
  {
   "cell_type": "markdown",
   "id": "aware-location",
   "metadata": {},
   "source": [
    "## Font Style\n",
    "{\n",
    "    FONT_HERSHEY_SIMPLEX        = 0, //!< normal size sans-serif font\n",
    "    \n",
    "    FONT_HERSHEY_PLAIN          = 1, //!< small size sans-serif font\n",
    "    \n",
    "    FONT_HERSHEY_DUPLEX         = 2, //!< normal size sans-serif font (more complex than FONT_HERSHEY_SIMPLEX)\n",
    "    \n",
    "    FONT_HERSHEY_COMPLEX        = 3, //!< normal size serif font\n",
    "    \n",
    "    FONT_HERSHEY_TRIPLEX        = 4, //!< normal size serif font (more complex than FONT_HERSHEY_COMPLEX)\n",
    "    \n",
    "    FONT_HERSHEY_COMPLEX_SMALL  = 5, //!< smaller version of FONT_HERSHEY_COMPLEX\n",
    "    \n",
    "    FONT_HERSHEY_SCRIPT_SIMPLEX = 6, //!< hand-writing style font\n",
    "    \n",
    "    FONT_HERSHEY_SCRIPT_COMPLEX = 7, //!< more complex variant of FONT_HERSHEY_SCRIPT_SIMPLEX\n",
    "    \n",
    "    FONT_ITALIC                 = 16 //!< flag for italic font\n",
    "}"
   ]
  },
  {
   "cell_type": "markdown",
   "id": "outside-ballet",
   "metadata": {},
   "source": [
    "## LineType\n",
    "cv2.FILLED = -1,\n",
    "\n",
    "cv2.LINE_4 = 4,\n",
    "\n",
    "cv2.LINE_8 = 8,\n",
    "\n",
    "cv2.LINE_AA = 16"
   ]
  },
  {
   "cell_type": "code",
   "execution_count": null,
   "id": "disturbed-expert",
   "metadata": {},
   "outputs": [],
   "source": []
  }
 ],
 "metadata": {
  "kernelspec": {
   "display_name": "Python 3",
   "language": "python",
   "name": "python3"
  },
  "language_info": {
   "codemirror_mode": {
    "name": "ipython",
    "version": 3
   },
   "file_extension": ".py",
   "mimetype": "text/x-python",
   "name": "python",
   "nbconvert_exporter": "python",
   "pygments_lexer": "ipython3",
   "version": "3.7.9"
  }
 },
 "nbformat": 4,
 "nbformat_minor": 5
}
