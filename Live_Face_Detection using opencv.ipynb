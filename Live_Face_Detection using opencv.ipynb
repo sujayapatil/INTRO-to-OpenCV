{
 "cells": [
  {
   "cell_type": "markdown",
   "metadata": {},
   "source": [
    "### Live_Face_Detection using opencv by web cam"
   ]
  },
  {
   "cell_type": "code",
   "execution_count": 2,
   "metadata": {},
   "outputs": [],
   "source": [
    "#import opencv\n",
    "import cv2\n",
    " \n",
    "# Load the Cascade Classifier\n",
    "face_cascade = cv2.CascadeClassifier(\"haarcascade_frontalface_default.xml\")\n",
    " \n",
    "#start web cam\n",
    "cap = cv2.VideoCapture(0)\n",
    " \n",
    "while True:\n",
    "     \n",
    "    #read image from webcam\n",
    "    respose, color_img = cap.read()\n",
    "     \n",
    "    # Convert to grayscale\n",
    "    gray_img = cv2.cvtColor(color_img, cv2.COLOR_BGR2GRAY)\n",
    "     \n",
    "    # Detect the faces\n",
    "    faces = face_cascade.detectMultiScale(gray_img, 1.4, 7)\n",
    "     \n",
    "    #display rectrangle\n",
    "    for (x, y, w, h) in faces:\n",
    "        cv2.rectangle(color_img, (x, y), (x+w, y+h), (0, 0, 255), 3)\n",
    "     \n",
    "    # display image\n",
    "    cv2.imshow('img', color_img)\n",
    "     \n",
    "    if cv2.waitKey(1) & 0xFF == ord('q'):\n",
    "        break\n",
    " \n",
    " # Release the VideoCapture object\n",
    "cap.release()\n",
    "cv2.destroyAllWindows()"
   ]
  },
  {
   "cell_type": "markdown",
   "metadata": {},
   "source": [
    "### Live_Face_Detection using opencv by video"
   ]
  },
  {
   "cell_type": "code",
   "execution_count": null,
   "metadata": {},
   "outputs": [],
   "source": [
    "#import opencv\n",
    "import cv2\n",
    " \n",
    "# Load the Cascade Classifier\n",
    "face_cascade = cv2.CascadeClassifier(\"haarcascade_frontalface_default.xml\")\n",
    " \n",
    "#start web cam\n",
    "cap = cv2.VideoCapture(\"\")\n",
    " \n",
    "while True:\n",
    "     \n",
    "    #read image from webcam\n",
    "    respose, color_img = cap.read()\n",
    "     \n",
    "    # Convert to grayscale\n",
    "    gray_img = cv2.cvtColor(color_img, cv2.COLOR_BGR2GRAY)\n",
    "     \n",
    "    # Detect the faces\n",
    "    faces = face_cascade.detectMultiScale(gray_img, 1.4, 7)\n",
    "     \n",
    "    #display rectrangle\n",
    "    for (x, y, w, h) in faces:\n",
    "        cv2.rectangle(color_img, (x, y), (x+w, y+h), (0, 0, 255), 3)\n",
    "     \n",
    "    # display image\n",
    "    cv2.imshow('img', color_img)\n",
    "     \n",
    "    if cv2.waitKey(1) & 0xFF == ord('q'):\n",
    "        break\n",
    " \n",
    " # Release the VideoCapture object\n",
    "cap.release()\n",
    "cv2.destroyAllWindows()"
   ]
  }
 ],
 "metadata": {
  "kernelspec": {
   "display_name": "Python 3",
   "language": "python",
   "name": "python3"
  },
  "language_info": {
   "codemirror_mode": {
    "name": "ipython",
    "version": 3
   },
   "file_extension": ".py",
   "mimetype": "text/x-python",
   "name": "python",
   "nbconvert_exporter": "python",
   "pygments_lexer": "ipython3",
   "version": "3.7.4"
  }
 },
 "nbformat": 4,
 "nbformat_minor": 5
}
